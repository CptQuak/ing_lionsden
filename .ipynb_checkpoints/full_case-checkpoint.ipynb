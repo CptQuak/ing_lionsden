{
 "cells": [
  {
   "cell_type": "code",
   "execution_count": 2,
   "metadata": {},
   "outputs": [],
   "source": [
    "import math\n",
    "import os\n",
    "\n",
    "import matplotlib.pyplot as plt\n",
    "import seaborn as sns\n",
    "import arviz as az\n",
    "az.rcParams[\"stats.hdi_prob\"] = 0.89\n",
    "az.style.use(\"arviz-darkgrid\")\n",
    "\n",
    "import numpy as np\n",
    "import pandas as pd\n",
    "\n",
    "import jax.numpy as jnp\n",
    "from jax import ops, random, vmap, lax\n",
    "from jax.scipy.special import expit, logsumexp\n",
    "\n",
    "import numpyro\n",
    "import numpyro.distributions as dist\n",
    "from numpyro.diagnostics import print_summary\n",
    "from numpyro.distributions import constraints\n",
    "from numpyro.infer import MCMC, NUTS, init_to_value, Predictive\n",
    "\n",
    "numpyro.set_platform(\"cpu\")\n",
    "numpyro.set_host_device_count(4)\n",
    "plt.style.use('ggplot')"
   ]
  },
  {
   "attachments": {},
   "cell_type": "markdown",
   "metadata": {},
   "source": [
    "- mamy duzo obserwacji, więc przyjrzymy się pełnej części zbioru (ale warto pomyslec nad powodami czemu gdzieś mogą być braki potem jeszcze by uzupelnić coś)\n",
    "- między modelami przyjrzymy się niepwnościom dla kilku 50 niedafultowym i 50 defaultowym\n",
    "- dla uproszczenia ignorujemy fakt ze niektorzy klienci są rejestrowani w kilku latach i mamy o nich wieksza historie kredytową"
   ]
  },
  {
   "cell_type": "code",
   "execution_count": 3,
   "metadata": {},
   "outputs": [],
   "source": [
    "df = pd.read_csv('data/full_case.csv', index_col=0)"
   ]
  },
  {
   "attachments": {},
   "cell_type": "markdown",
   "metadata": {},
   "source": [
    "# Preprocessing variables\n",
    "\n",
    "Procedure for value standarization:\n",
    "- because we are dealing with very large values we want to take the logarithms of them\n",
    "- additionaly after checking the ranges of values I have decided to divide all values by a milion before taking the logarithmic in all columns except for those in Val_XX = [7, 15, 27, 33, 35, 37]\n",
    "- because there are at the same time large positive and negative values I preprocess values in each column by adding absolute value of smallest observation and add 0.1 to avoid problem with logarithm of 0\n",
    "- after all of this that standard z standarization\n",
    "\n",
    "I most likely wont use all the values, gonna try to select potentialy interesting ones just for testing some hipotheses"
   ]
  },
  {
   "cell_type": "code",
   "execution_count": 4,
   "metadata": {},
   "outputs": [],
   "source": [
    "def preprocess_data(df):\n",
    "    for col in df.select_dtypes(include=[\"float\"]).columns:\n",
    "        df[col] = df[col] / 10e6\n",
    "        df[col] = df[col] + abs(df[col].min()) + 1\n",
    "        df[col] = np.log(df[col])\n",
    "        df[col] = (df[col] - df[col].mean()) / df[col].std()\n",
    "    return df\n",
    "\n",
    "df_std = df.copy()\n",
    "df_std = (df_std.pipe(preprocess_data))"
   ]
  },
  {
   "attachments": {},
   "cell_type": "markdown",
   "metadata": {},
   "source": [
    "Imortant to note is that representation of many histograms is still broken due to floating point problems. For example when we take the case of Var_05, there happen to be large outliers that make the visualisation stage problematic"
   ]
  },
  {
   "cell_type": "code",
   "execution_count": 5,
   "metadata": {},
   "outputs": [
    {
     "name": "stderr",
     "output_type": "stream",
     "text": [
      "/tmp/ipykernel_5779/4138126477.py:4: UserWarning: The figure layout has changed to tight\n",
      "  fig.tight_layout()\n"
     ]
    },
    {
     "data": {
      "image/png": "[encoded data removed]",
      "text/plain": [
       "<Figure size 800x400 with 2 Axes>"
      ]
     },
     "metadata": {},
     "output_type": "display_data"
    }
   ],
   "source": [
    "fig, ax = plt.subplots(1, 2, figsize=(8, 4))\n",
    "ax[0].plot(df_std.iloc[:, 6])\n",
    "ax[1].hist(df_std.iloc[:, 6])\n",
    "fig.tight_layout()"
   ]
  },
  {
   "attachments": {},
   "cell_type": "markdown",
   "metadata": {},
   "source": [
    "# Modeling\n",
    "## Probability of default and the effect of gross profit\n",
    "\n",
    "Lets assume that the probability that the client defaults is independent of his year to year performance, we matter is only current year. I will explore some models to gain insights into the causal structure.\n",
    "\n",
    "Necesseray to create a uniqe identifier for each client and date combination.\n",
    "\n",
    "W sumie moge dodać element związany z rokiem jako dwie zmienne indeksowane jedna klient druga rok, tylko ten rok problematyczny jest, moze byc za malo czesu by nad tym myśleć"
   ]
  },
  {
   "cell_type": "code",
   "execution_count": 6,
   "metadata": {},
   "outputs": [],
   "source": [
    "client = pd.Categorical(df_std['ID'].astype('str') + '_' + df_std['obs_date'].astype('str'))\n",
    "dlist = dict(\n",
    "    gross_profit = df_std.iloc[:, 15].values,\n",
    "    client = client.codes,\n",
    "    default = df_std.default.values\n",
    ")"
   ]
  },
  {
   "cell_type": "code",
   "execution_count": 7,
   "metadata": {},
   "outputs": [
    {
     "data": {
      "application/vnd.jupyter.widget-view+json": {
       "model_id": "3046a8ae11274436a008c4bb6da4eabe",
       "version_major": 2,
       "version_minor": 0
      },
      "text/plain": [
       "  0%|          | 0/1500 [00:00<?, ?it/s]"
      ]
     },
     "metadata": {},
     "output_type": "display_data"
    },
    {
     "data": {
      "application/vnd.jupyter.widget-view+json": {
       "model_id": "21e2e8e5f5ba4fc3991747d04777db71",
       "version_major": 2,
       "version_minor": 0
      },
      "text/plain": [
       "  0%|          | 0/1500 [00:00<?, ?it/s]"
      ]
     },
     "metadata": {},
     "output_type": "display_data"
    },
    {
     "data": {
      "application/vnd.jupyter.widget-view+json": {
       "model_id": "9db19a517273432fa2bc9e60acbdb2d5",
       "version_major": 2,
       "version_minor": 0
      },
      "text/plain": [
       "  0%|          | 0/1500 [00:00<?, ?it/s]"
      ]
     },
     "metadata": {},
     "output_type": "display_data"
    },
    {
     "data": {
      "application/vnd.jupyter.widget-view+json": {
       "model_id": "8ea461f641e84925a0b6ab4d74a9ac3e",
       "version_major": 2,
       "version_minor": 0
      },
      "text/plain": [
       "  0%|          | 0/1500 [00:00<?, ?it/s]"
      ]
     },
     "metadata": {},
     "output_type": "display_data"
    },
    {
     "name": "stdout",
     "output_type": "stream",
     "text": [
      "\n",
      "                mean       std    median      5.0%     95.0%     n_eff     r_hat\n",
      "         a     -2.79      0.01     -2.79     -2.81     -2.77   3084.09      1.00\n",
      "         b      0.08      0.01      0.08      0.07      0.10   4053.85      1.00\n",
      "\n",
      "Number of divergences: 0\n"
     ]
    }
   ],
   "source": [
    "def model1(gross_profit, client, default):\n",
    "    alpha = numpyro.sample('a', dist.Normal(0, 1))\n",
    "    beta = numpyro.sample('b', dist.Normal(0, 1))\n",
    "\n",
    "    logit_p = numpyro.deterministic('p_default', alpha + beta*gross_profit)\n",
    "\n",
    "    numpyro.sample('default', dist.Binomial(1, logits=logit_p), obs=default)\n",
    "\n",
    "m1 = MCMC(NUTS(model1), num_samples=1000, num_chains=4, num_warmup=500)\n",
    "m1.run(random.PRNGKey(0), **dlist)\n",
    "m1.print_summary()"
   ]
  },
  {
   "cell_type": "code",
   "execution_count": 8,
   "metadata": {},
   "outputs": [
    {
     "data": {
      "text/plain": [
       "<matplotlib.collections.PolyCollection at 0x7f6b96395780>"
      ]
     },
     "execution_count": 8,
     "metadata": {},
     "output_type": "execute_result"
    },
    {
     "data": {
      "image/png": "[encoded data removed]",
      "text/plain": [
       "<Figure size 720x480 with 1 Axes>"
      ]
     },
     "metadata": {},
     "output_type": "display_data"
    }
   ],
   "source": [
    "n = 100\n",
    "ones_indices = np.random.choice(np.where(dlist['default'] == 1)[0], size=n, replace=False)\n",
    "zeros_indices = np.random.choice(np.where(dlist['default'] == 0)[0], size=n, replace=False)\n",
    "\n",
    "samples = m1.get_samples()\n",
    "\n",
    "x = np.arange(0, n)\n",
    "p_nd = expit(samples['p_default'][:, zeros_indices])\n",
    "p_nd_mean = p_nd.mean(0)\n",
    "p_nd_hdi = numpyro.diagnostics.hpdi(p_nd)\n",
    "\n",
    "\n",
    "plt.plot(x, p_nd_mean)\n",
    "plt.fill_between(x, p_nd_hdi[0, :], p_nd_hdi[1, :], alpha=.5)\n",
    "\n",
    "x = np.arange(n, n+n)\n",
    "p_d = expit(samples['p_default'][:, ones_indices])\n",
    "p_d_mean = p_d.mean(0)\n",
    "p_d_hdi = numpyro.diagnostics.hpdi(p_d)\n",
    "\n",
    "\n",
    "plt.plot(x, p_d_mean)\n",
    "plt.fill_between(x, p_d_hdi[0, :], p_d_hdi[1, :], alpha=.5)\n"
   ]
  },
  {
   "attachments": {},
   "cell_type": "markdown",
   "metadata": {},
   "source": [
    "Just gross profit is too little infromation "
   ]
  },
  {
   "cell_type": "code",
   "execution_count": 9,
   "metadata": {},
   "outputs": [
    {
     "data": {
      "application/vnd.jupyter.widget-view+json": {
       "model_id": "c7ba9b95f2dc433ab4ece58791f04320",
       "version_major": 2,
       "version_minor": 0
      },
      "text/plain": [
       "  0%|          | 0/1500 [00:00<?, ?it/s]"
      ]
     },
     "metadata": {},
     "output_type": "display_data"
    },
    {
     "data": {
      "application/vnd.jupyter.widget-view+json": {
       "model_id": "2562b6de371447c1bb8b5832f15e501c",
       "version_major": 2,
       "version_minor": 0
      },
      "text/plain": [
       "  0%|          | 0/1500 [00:00<?, ?it/s]"
      ]
     },
     "metadata": {},
     "output_type": "display_data"
    },
    {
     "data": {
      "application/vnd.jupyter.widget-view+json": {
       "model_id": "c07f407d55f34411bb5f74675abb679a",
       "version_major": 2,
       "version_minor": 0
      },
      "text/plain": [
       "  0%|          | 0/1500 [00:00<?, ?it/s]"
      ]
     },
     "metadata": {},
     "output_type": "display_data"
    },
    {
     "data": {
      "application/vnd.jupyter.widget-view+json": {
       "model_id": "54e83b64c76b4f709ca61d8238f7321a",
       "version_major": 2,
       "version_minor": 0
      },
      "text/plain": [
       "  0%|          | 0/1500 [00:00<?, ?it/s]"
      ]
     },
     "metadata": {},
     "output_type": "display_data"
    },
    {
     "ename": "",
     "evalue": "",
     "output_type": "error",
     "traceback": [
      "\u001b[1;31mCanceled future for execute_request message before replies were done"
     ]
    },
    {
     "ename": "",
     "evalue": "",
     "output_type": "error",
     "traceback": [
      "\u001b[1;31mThe Kernel crashed while executing code in the the current cell or a previous cell. Please review the code in the cell(s) to identify a possible cause of the failure. Click <a href='https://aka.ms/vscodeJupyterKernelCrash'>here</a> for more info. View Jupyter <a href='command:jupyter.viewOutput'>log</a> for further details."
     ]
    }
   ],
   "source": [
    "dlist = dict(\n",
    "    gross_profit = df_std.iloc[:, 15].values,\n",
    "    ravenues = df_std.iloc[:, 30].values,\n",
    "    assets_total = df_std.iloc[:, 3].values,\n",
    "    eq_liab_total = df_std.iloc[:, 11].values,\n",
    "    default = df_std.default.values\n",
    ")\n",
    "\n",
    "def model2(gross_profit, ravenues, assets_total, eq_liab_total, default):\n",
    "    alpha = numpyro.sample('a', dist.Normal(0, 1))\n",
    "    b1 = numpyro.sample('b1', dist.Normal(0, 1))\n",
    "    b2 = numpyro.sample('b2', dist.Normal(0, 1))\n",
    "    b3 = numpyro.sample('b3', dist.Normal(0, 1))\n",
    "    b4 = numpyro.sample('b4', dist.Normal(0, 1))\n",
    "\n",
    "    logit_p = numpyro.deterministic(\n",
    "        'p_default', \n",
    "        alpha \n",
    "        + b1 * gross_profit\n",
    "        + b2 * ravenues\n",
    "        + b3 * assets_total\n",
    "        + b4 * eq_liab_total\n",
    "    )\n",
    "\n",
    "    numpyro.sample('default', dist.Binomial(1, logits=logit_p), obs=default)\n",
    "\n",
    "m1 = MCMC(NUTS(model2), num_samples=1000, num_chains=4, num_warmup=500)\n",
    "m1.run(random.PRNGKey(0), **dlist)\n",
    "#m1.print_summary()"
   ]
  },
  {
   "cell_type": "code",
   "execution_count": null,
   "metadata": {},
   "outputs": [],
   "source": []
  },
  {
   "cell_type": "code",
   "execution_count": null,
   "metadata": {},
   "outputs": [],
   "source": []
  }
 ],
 "metadata": {
  "kernelspec": {
   "display_name": "py310",
   "language": "python",
   "name": "python3"
  },
  "language_info": {
   "codemirror_mode": {
    "name": "ipython",
    "version": 3
   },
   "file_extension": ".py",
   "mimetype": "text/x-python",
   "name": "python",
   "nbconvert_exporter": "python",
   "pygments_lexer": "ipython3",
   "version": "3.10.9"
  },
  "orig_nbformat": 4
 },
 "nbformat": 4,
 "nbformat_minor": 2
}
